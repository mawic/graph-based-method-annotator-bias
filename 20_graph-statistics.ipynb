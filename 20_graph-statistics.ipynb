{
 "cells": [
  {
   "cell_type": "code",
   "execution_count": 1,
   "metadata": {},
   "outputs": [],
   "source": [
    "import pandas as pd\n",
    "import numpy as np\n",
    "import math\n",
    "import collections\n",
    "import networkx as nx\n",
    "import matplotlib.pyplot as plt\n",
    "import helper.graphgeneration as gg\n",
    "\n",
    "from tqdm import tqdm\n",
    "from pathlib import Path\n",
    "\n",
    "from IPython.core.interactiveshell import InteractiveShell\n",
    "InteractiveShell.ast_node_interactivity = \"all\""
   ]
  },
  {
   "cell_type": "markdown",
   "metadata": {},
   "source": [
    "# Graph statistics"
   ]
  },
  {
   "cell_type": "markdown",
   "metadata": {},
   "source": [
    "### Parameters"
   ]
  },
  {
   "cell_type": "code",
   "execution_count": 2,
   "metadata": {},
   "outputs": [],
   "source": [
    "path_comments = \"00_data/attack_annotated_comments.tsv\"\n",
    "path_annotations = \"00_data/attack_annotations.tsv\"\n",
    "path_workers = \"00_data/attack_worker_demographics.tsv\"\n",
    "path_export = \"./01_processed_data/200903_run_004/200903_00_graph_\"\n",
    "\n",
    "types = ['agreement','cohen','krippendorff','heuristic']\n",
    "types_print_names = ['Agreement Rate','Cohen\\'s Kappa','Krippendorff\\'s Alpha','Heuristic Function']"
   ]
  },
  {
   "cell_type": "markdown",
   "metadata": {},
   "source": [
    "### Load data"
   ]
  },
  {
   "cell_type": "code",
   "execution_count": 3,
   "metadata": {},
   "outputs": [],
   "source": [
    "graphs = []\n",
    "for graph in types:\n",
    "    graphs.append(nx.read_gexf(path_export + graph + \".gexf\"))"
   ]
  },
  {
   "cell_type": "markdown",
   "metadata": {},
   "source": [
    "### Transform data"
   ]
  },
  {
   "cell_type": "code",
   "execution_count": 4,
   "metadata": {
    "scrolled": true
   },
   "outputs": [
    {
     "data": {
      "text/html": [
       "<div>\n",
       "<style scoped>\n",
       "    .dataframe tbody tr th:only-of-type {\n",
       "        vertical-align: middle;\n",
       "    }\n",
       "\n",
       "    .dataframe tbody tr th {\n",
       "        vertical-align: top;\n",
       "    }\n",
       "\n",
       "    .dataframe thead th {\n",
       "        text-align: right;\n",
       "    }\n",
       "</style>\n",
       "<table border=\"1\" class=\"dataframe\">\n",
       "  <thead>\n",
       "    <tr style=\"text-align: right;\">\n",
       "      <th></th>\n",
       "      <th>Weight function</th>\n",
       "      <th>Agreement Rate</th>\n",
       "      <th>Cohen's Kappa</th>\n",
       "      <th>Krippendorff's Alpha</th>\n",
       "      <th>Heuristic Function</th>\n",
       "    </tr>\n",
       "  </thead>\n",
       "  <tbody>\n",
       "    <tr>\n",
       "      <th>0</th>\n",
       "      <td>Number of nodes</td>\n",
       "      <td>4,053</td>\n",
       "      <td>4,053</td>\n",
       "      <td>4,053</td>\n",
       "      <td>4,053</td>\n",
       "    </tr>\n",
       "    <tr>\n",
       "      <th>1</th>\n",
       "      <td>Number of edges</td>\n",
       "      <td>444,344</td>\n",
       "      <td>91,308</td>\n",
       "      <td>91,308</td>\n",
       "      <td>444,344</td>\n",
       "    </tr>\n",
       "    <tr>\n",
       "      <th>2</th>\n",
       "      <td>Average degree</td>\n",
       "      <td>219.3</td>\n",
       "      <td>45.1</td>\n",
       "      <td>45.1</td>\n",
       "      <td>219.3</td>\n",
       "    </tr>\n",
       "    <tr>\n",
       "      <th>3</th>\n",
       "      <td>Density</td>\n",
       "      <td>0.054</td>\n",
       "      <td>0.011</td>\n",
       "      <td>0.011</td>\n",
       "      <td>0.054</td>\n",
       "    </tr>\n",
       "    <tr>\n",
       "      <th>4</th>\n",
       "      <td>Connected componets</td>\n",
       "      <td>1</td>\n",
       "      <td>1</td>\n",
       "      <td>1</td>\n",
       "      <td>1</td>\n",
       "    </tr>\n",
       "  </tbody>\n",
       "</table>\n",
       "</div>"
      ],
      "text/plain": [
       "       Weight function Agreement Rate Cohen's Kappa Krippendorff's Alpha  \\\n",
       "0      Number of nodes          4,053         4,053                4,053   \n",
       "1      Number of edges        444,344        91,308               91,308   \n",
       "2       Average degree          219.3          45.1                 45.1   \n",
       "3              Density          0.054         0.011                0.011   \n",
       "4  Connected componets              1             1                    1   \n",
       "\n",
       "  Heuristic Function  \n",
       "0              4,053  \n",
       "1            444,344  \n",
       "2              219.3  \n",
       "3              0.054  \n",
       "4                  1  "
      ]
     },
     "execution_count": 4,
     "metadata": {},
     "output_type": "execute_result"
    }
   ],
   "source": [
    "list_of_lists = [\n",
    "    ['Number of nodes'],\n",
    "    ['Number of edges'],\n",
    "    ['Average degree'],\n",
    "    ['Density'],\n",
    "    ['Connected componets'],\n",
    "]\n",
    "    \n",
    "for i in range(0,len(types)):\n",
    "    nodes = graphs[i].number_of_nodes()\n",
    "    edges = graphs[i].number_of_edges()\n",
    "    degree = (sum(dict(graphs[i].degree()).values()))/nodes\n",
    "    density = nx.density(graphs[i])\n",
    "    comp = nx.number_connected_components(graphs[i])\n",
    "    list_of_lists[0].append('{:,.0f}'.format(nodes))\n",
    "    list_of_lists[1].append('{:,.0f}'.format(edges))\n",
    "    list_of_lists[2].append('{:.1f}'.format(degree))\n",
    "    list_of_lists[3].append('{:.3f}'.format(density))\n",
    "    list_of_lists[4].append('{:.0f}'.format(comp))\n",
    "\n",
    "df_results =  pd.DataFrame(list_of_lists, columns=['Weight function','Agreement Rate','Cohen\\'s Kappa','Krippendorff\\'s Alpha','Heuristic Function'])\n",
    "df_results"
   ]
  },
  {
   "cell_type": "code",
   "execution_count": 9,
   "metadata": {},
   "outputs": [
    {
     "name": "stdout",
     "output_type": "stream",
     "text": [
      "\\begin{tabular}{lllll}\n",
      "\\toprule\n",
      "     Weight function & Agreement Rate & Cohen's Kappa & Krippendorff's Alpha & Heuristic Function \\\\\n",
      "\\midrule\n",
      "     Number of nodes &          4,053 &         4,053 &                4,053 &              4,053 \\\\\n",
      "     Number of edges &        444,344 &        91,308 &               91,308 &            444,344 \\\\\n",
      "      Average degree &          219.3 &          45.1 &                 45.1 &              219.3 \\\\\n",
      "             Density &          0.054 &         0.011 &                0.011 &              0.054 \\\\\n",
      " Connected componets &              1 &             1 &                    1 &                  1 \\\\\n",
      "\\bottomrule\n",
      "\\end{tabular}\n",
      "\n"
     ]
    }
   ],
   "source": [
    "print(df_results.to_latex(index=False,bold_rows=True))"
   ]
  },
  {
   "cell_type": "code",
   "execution_count": null,
   "metadata": {},
   "outputs": [],
   "source": []
  }
 ],
 "metadata": {
  "kernelspec": {
   "display_name": "Environment (conda_tensorflow2_latest_p37)",
   "language": "python",
   "name": "conda_tensorflow2_latest_p37"
  },
  "language_info": {
   "codemirror_mode": {
    "name": "ipython",
    "version": 3
   },
   "file_extension": ".py",
   "mimetype": "text/x-python",
   "name": "python",
   "nbconvert_exporter": "python",
   "pygments_lexer": "ipython3",
   "version": "3.7.6"
  }
 },
 "nbformat": 4,
 "nbformat_minor": 4
}
